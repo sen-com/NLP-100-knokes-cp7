{
  "nbformat": 4,
  "nbformat_minor": 0,
  "metadata": {
    "colab": {
      "name": "65. アナロジータスクでの正解率.ipynb",
      "provenance": [],
      "authorship_tag": "ABX9TyMERP5PeHPxEBbkTUy0ejJq",
      "include_colab_link": true
    },
    "kernelspec": {
      "display_name": "Python 3",
      "name": "python3"
    }
  },
  "cells": [
    {
      "cell_type": "markdown",
      "metadata": {
        "id": "view-in-github",
        "colab_type": "text"
      },
      "source": [
        "<a href=\"https://colab.research.google.com/github/sen-com/NLP-100-knokes-cp7/blob/main/65_%E3%82%A2%E3%83%8A%E3%83%AD%E3%82%B8%E3%83%BC%E3%82%BF%E3%82%B9%E3%82%AF%E3%81%A7%E3%81%AE%E6%AD%A3%E8%A7%A3%E7%8E%87.ipynb\" target=\"_parent\"><img src=\"https://colab.research.google.com/assets/colab-badge.svg\" alt=\"Open In Colab\"/></a>"
      ]
    },
    {
      "cell_type": "code",
      "metadata": {
        "id": "Yk2HVJGrlVaz",
        "outputId": "c311901b-a76a-4de9-830c-6e8bfd265448",
        "colab": {
          "base_uri": "https://localhost:8080/"
        }
      },
      "source": [
        "# 単語アナロジーの評価データをダウンロードし，vec(2列目の単語) - vec(1列目の単語) + vec(3列目の単語)を計算し，\n",
        "# そのベクトルと類似度が最も高い単語と，その類似度を求めよ．\n",
        "# 求めた単語と類似度は，各事例の末尾に追記せよ．\n",
        "FILE_ID = \"0B7XkCwpI5KDYNlNUTTlSS21pQmM\"\n",
        "FILE_NAME = \"GoogleNews-vectors-negative300.bin.gz\"\n",
        "!wget --load-cookies /tmp/cookies.txt \"https://docs.google.com/uc?export=download&confirm=$(wget --quiet --save-cookies /tmp/cookies.txt --keep-session-cookies --no-check-certificate 'https://docs.google.com/uc?export=download&id=$FILE_ID' -O- | sed -rn 's/.*confirm=([0-9A-Za-z_]+).*/\\1\\n/p')&id=$FILE_ID\" -O $FILE_NAME && rm -rf /tmp/cookies.txt"
      ],
      "execution_count": null,
      "outputs": [
        {
          "output_type": "stream",
          "text": [
            "--2020-11-17 05:15:56--  https://docs.google.com/uc?export=download&confirm=RAJ6&id=0B7XkCwpI5KDYNlNUTTlSS21pQmM\n",
            "Resolving docs.google.com (docs.google.com)... 108.177.126.101, 108.177.126.138, 108.177.126.113, ...\n",
            "Connecting to docs.google.com (docs.google.com)|108.177.126.101|:443... connected.\n",
            "HTTP request sent, awaiting response... 302 Moved Temporarily\n",
            "Location: https://doc-08-ag-docs.googleusercontent.com/docs/securesc/f47b808q0l1prbiic2ii1r9t6fel520d/8mb5f0inkb7gr6ap7cr0nkq9v2rtqtk7/1605590100000/06848720943842814915/15078377848264474882Z/0B7XkCwpI5KDYNlNUTTlSS21pQmM?e=download [following]\n",
            "--2020-11-17 05:15:57--  https://doc-08-ag-docs.googleusercontent.com/docs/securesc/f47b808q0l1prbiic2ii1r9t6fel520d/8mb5f0inkb7gr6ap7cr0nkq9v2rtqtk7/1605590100000/06848720943842814915/15078377848264474882Z/0B7XkCwpI5KDYNlNUTTlSS21pQmM?e=download\n",
            "Resolving doc-08-ag-docs.googleusercontent.com (doc-08-ag-docs.googleusercontent.com)... 74.125.143.132, 2a00:1450:4013:c03::84\n",
            "Connecting to doc-08-ag-docs.googleusercontent.com (doc-08-ag-docs.googleusercontent.com)|74.125.143.132|:443... connected.\n",
            "HTTP request sent, awaiting response... 302 Found\n",
            "Location: https://docs.google.com/nonceSigner?nonce=e25l4c2lct718&continue=https://doc-08-ag-docs.googleusercontent.com/docs/securesc/f47b808q0l1prbiic2ii1r9t6fel520d/8mb5f0inkb7gr6ap7cr0nkq9v2rtqtk7/1605590100000/06848720943842814915/15078377848264474882Z/0B7XkCwpI5KDYNlNUTTlSS21pQmM?e%3Ddownload&hash=v09h8ii7eejleruqle6crhja7iqciarf [following]\n",
            "--2020-11-17 05:15:57--  https://docs.google.com/nonceSigner?nonce=e25l4c2lct718&continue=https://doc-08-ag-docs.googleusercontent.com/docs/securesc/f47b808q0l1prbiic2ii1r9t6fel520d/8mb5f0inkb7gr6ap7cr0nkq9v2rtqtk7/1605590100000/06848720943842814915/15078377848264474882Z/0B7XkCwpI5KDYNlNUTTlSS21pQmM?e%3Ddownload&hash=v09h8ii7eejleruqle6crhja7iqciarf\n",
            "Connecting to docs.google.com (docs.google.com)|108.177.126.101|:443... connected.\n",
            "HTTP request sent, awaiting response... 302 Found\n",
            "Location: https://doc-08-ag-docs.googleusercontent.com/docs/securesc/f47b808q0l1prbiic2ii1r9t6fel520d/8mb5f0inkb7gr6ap7cr0nkq9v2rtqtk7/1605590100000/06848720943842814915/15078377848264474882Z/0B7XkCwpI5KDYNlNUTTlSS21pQmM?e=download&nonce=e25l4c2lct718&user=15078377848264474882Z&hash=276209njete0ihgotj6d85qfclh55v1l [following]\n",
            "--2020-11-17 05:15:57--  https://doc-08-ag-docs.googleusercontent.com/docs/securesc/f47b808q0l1prbiic2ii1r9t6fel520d/8mb5f0inkb7gr6ap7cr0nkq9v2rtqtk7/1605590100000/06848720943842814915/15078377848264474882Z/0B7XkCwpI5KDYNlNUTTlSS21pQmM?e=download&nonce=e25l4c2lct718&user=15078377848264474882Z&hash=276209njete0ihgotj6d85qfclh55v1l\n",
            "Connecting to doc-08-ag-docs.googleusercontent.com (doc-08-ag-docs.googleusercontent.com)|74.125.143.132|:443... connected.\n",
            "HTTP request sent, awaiting response... 200 OK\n",
            "Length: unspecified [application/x-gzip]\n",
            "Saving to: ‘GoogleNews-vectors-negative300.bin.gz’\n",
            "\n",
            "GoogleNews-vectors-     [            <=>     ]   1.53G   121MB/s    in 12s     \n",
            "\n",
            "2020-11-17 05:16:11 (128 MB/s) - ‘GoogleNews-vectors-negative300.bin.gz’ saved [1647046227]\n",
            "\n"
          ],
          "name": "stdout"
        }
      ]
    },
    {
      "cell_type": "code",
      "metadata": {
        "id": "2HU0CpyPoqsu"
      },
      "source": [
        "from gensim.models import KeyedVectors\n",
        "\n",
        "model = KeyedVectors.load_word2vec_format('./GoogleNews-vectors-negative300.bin.gz', binary=True)"
      ],
      "execution_count": null,
      "outputs": []
    },
    {
      "cell_type": "code",
      "metadata": {
        "id": "5eRgCXPOshxD",
        "outputId": "18c68a80-d4b9-4e22-947c-74bf9e25d89e",
        "colab": {
          "base_uri": "https://localhost:8080/"
        }
      },
      "source": [
        "vec = model['Spain'] - model['madrid'] + model['Athens']\n",
        "print(model.most_similar(positive=['Spain', 'Athens'], negative=['Madrid'], topn=1)[0])"
      ],
      "execution_count": null,
      "outputs": [
        {
          "output_type": "stream",
          "text": [
            "/usr/local/lib/python3.6/dist-packages/gensim/matutils.py:737: FutureWarning: Conversion of the second argument of issubdtype from `int` to `np.signedinteger` is deprecated. In future, it will be treated as `np.int64 == np.dtype(int).type`.\n",
            "  if np.issubdtype(vec.dtype, np.int):\n"
          ],
          "name": "stderr"
        },
        {
          "output_type": "stream",
          "text": [
            "('Greece', 0.6898481249809265)\n"
          ],
          "name": "stdout"
        }
      ]
    },
    {
      "cell_type": "code",
      "metadata": {
        "id": "_YlOnNemu5Lo",
        "outputId": "1dc7e9a3-f4d5-4f14-aacb-5f096de77a30",
        "colab": {
          "base_uri": "https://localhost:8080/"
        }
      },
      "source": [
        "!wget http://download.tensorflow.org/data/questions-words.txt"
      ],
      "execution_count": null,
      "outputs": [
        {
          "output_type": "stream",
          "text": [
            "--2020-11-17 05:44:25--  http://download.tensorflow.org/data/questions-words.txt\n",
            "Resolving download.tensorflow.org (download.tensorflow.org)... 108.177.126.128, 2a00:1450:4013:c01::80\n",
            "Connecting to download.tensorflow.org (download.tensorflow.org)|108.177.126.128|:80... connected.\n",
            "HTTP request sent, awaiting response... 200 OK\n",
            "Length: 603955 (590K) [text/plain]\n",
            "Saving to: ‘questions-words.txt’\n",
            "\n",
            "questions-words.txt 100%[===================>] 589.80K  --.-KB/s    in 0.002s  \n",
            "\n",
            "2020-11-17 05:44:26 (253 MB/s) - ‘questions-words.txt’ saved [603955/603955]\n",
            "\n"
          ],
          "name": "stdout"
        }
      ]
    },
    {
      "cell_type": "code",
      "metadata": {
        "id": "wc2bg1rNu7B6",
        "outputId": "d602ec71-bd03-4edd-e261-2c1e8610454d",
        "colab": {
          "base_uri": "https://localhost:8080/"
        }
      },
      "source": [
        "!head -10 questions-words.txt"
      ],
      "execution_count": null,
      "outputs": [
        {
          "output_type": "stream",
          "text": [
            ": capital-common-countries\n",
            "Athens Greece Baghdad Iraq\n",
            "Athens Greece Bangkok Thailand\n",
            "Athens Greece Beijing China\n",
            "Athens Greece Berlin Germany\n",
            "Athens Greece Bern Switzerland\n",
            "Athens Greece Cairo Egypt\n",
            "Athens Greece Canberra Australia\n",
            "Athens Greece Hanoi Vietnam\n",
            "Athens Greece Havana Cuba\n"
          ],
          "name": "stdout"
        }
      ]
    },
    {
      "cell_type": "code",
      "metadata": {
        "id": "awpjj896v9vY",
        "outputId": "9c4d8757-2832-4d0f-a9eb-ee53f87c2a54",
        "colab": {
          "background_save": true,
          "base_uri": "https://localhost:8080/"
        }
      },
      "source": [
        "with open('./questions-words.txt', 'r') as f1, open('./questions-words-add.txt', 'w') as f2:\n",
        "  for line in f1: # f1から1行ずつ読込み、求めた単語と類似度を追加してf2に書込む\n",
        "    line = line.split()\n",
        "    if line[0] == ':':\n",
        "      category = line[1]\n",
        "    else:\n",
        "      word, cos = model.most_similar(positive=[line[1], line[2]], negative=[line[0]], topn=1)[0]\n",
        "      f2.write(' '.join([category] + line + [word, str(cos) + '\\n']))"
      ],
      "execution_count": null,
      "outputs": [
        {
          "output_type": "stream",
          "text": [
            "/usr/local/lib/python3.6/dist-packages/gensim/matutils.py:737: FutureWarning: Conversion of the second argument of issubdtype from `int` to `np.signedinteger` is deprecated. In future, it will be treated as `np.int64 == np.dtype(int).type`.\n",
            "  if np.issubdtype(vec.dtype, np.int):\n"
          ],
          "name": "stderr"
        }
      ]
    },
    {
      "cell_type": "code",
      "metadata": {
        "id": "nBPSKkkwQSz2",
        "outputId": "9223dade-03fd-4c03-e66c-d9e5934baf69",
        "colab": {
          "base_uri": "https://localhost:8080/"
        }
      },
      "source": [
        "!head -10 questions-words-add.txt"
      ],
      "execution_count": 22,
      "outputs": [
        {
          "output_type": "stream",
          "text": [
            "capital-common-countries Athens Greece Baghdad Iraq Iraqi 0.6351870894432068\n",
            "capital-common-countries Athens Greece Bangkok Thailand Thailand 0.7137669324874878\n",
            "capital-common-countries Athens Greece Beijing China China 0.7235777974128723\n",
            "capital-common-countries Athens Greece Berlin Germany Germany 0.6734622120857239\n",
            "capital-common-countries Athens Greece Bern Switzerland Switzerland 0.4919748306274414\n",
            "capital-common-countries Athens Greece Cairo Egypt Egypt 0.7527809739112854\n",
            "capital-common-countries Athens Greece Canberra Australia Australia 0.583732545375824\n",
            "capital-common-countries Athens Greece Hanoi Vietnam Viet_Nam 0.6276341676712036\n",
            "capital-common-countries Athens Greece Havana Cuba Cuba 0.6460992097854614\n",
            "capital-common-countries Athens Greece Helsinki Finland Finland 0.6899983882904053\n"
          ],
          "name": "stdout"
        }
      ]
    },
    {
      "cell_type": "code",
      "metadata": {
        "id": "JFv75QUvVugE",
        "outputId": "9f2e82ec-6391-4128-8b0c-a7b2e361d1f2",
        "colab": {
          "base_uri": "https://localhost:8080/"
        }
      },
      "source": [
        "with open('./questions-words-add.txt', 'r') as f:\n",
        "  sem_cnt = 0\n",
        "  sem_cor = 0\n",
        "  syn_cnt = 0\n",
        "  syn_cor = 0\n",
        "  for line in f:\n",
        "    line = line.split()\n",
        "    if not line[0].startswith('gram'):\n",
        "      sem_cnt += 1\n",
        "      if line[4] == line[5]:\n",
        "        sem_cor += 1\n",
        "    else:\n",
        "      syn_cnt += 1\n",
        "      if line[4] == line[5]:\n",
        "        syn_cor += 1\n",
        "\n",
        "print(f'意味的アナロジー正解率: {sem_cor/sem_cnt:.3f}')\n",
        "print(f'文法的アナロジー正解率: {syn_cor/syn_cnt:.3f}') "
      ],
      "execution_count": 23,
      "outputs": [
        {
          "output_type": "stream",
          "text": [
            "意味的アナロジー正解率: 0.731\n",
            "文法的アナロジー正解率: 0.740\n"
          ],
          "name": "stdout"
        }
      ]
    }
  ]
}