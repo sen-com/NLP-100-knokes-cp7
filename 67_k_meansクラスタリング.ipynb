{
  "nbformat": 4,
  "nbformat_minor": 0,
  "metadata": {
    "colab": {
      "name": "67. k-meansクラスタリング.ipynb",
      "provenance": [],
      "authorship_tag": "ABX9TyPA6qZZl3WFy/rrb1QE9WaG",
      "include_colab_link": true
    },
    "kernelspec": {
      "display_name": "Python 3",
      "name": "python3"
    }
  },
  "cells": [
    {
      "cell_type": "markdown",
      "metadata": {
        "id": "view-in-github",
        "colab_type": "text"
      },
      "source": [
        "<a href=\"https://colab.research.google.com/github/sen-com/NLP-100-knokes-cp7/blob/main/67_k_means%E3%82%AF%E3%83%A9%E3%82%B9%E3%82%BF%E3%83%AA%E3%83%B3%E3%82%B0.ipynb\" target=\"_parent\"><img src=\"https://colab.research.google.com/assets/colab-badge.svg\" alt=\"Open In Colab\"/></a>"
      ]
    },
    {
      "cell_type": "code",
      "metadata": {
        "id": "Yk2HVJGrlVaz",
        "outputId": "c311901b-a76a-4de9-830c-6e8bfd265448",
        "colab": {
          "base_uri": "https://localhost:8080/"
        }
      },
      "source": [
        "# 国名に関する単語ベクトルを抽出し，k-meansクラスタリングをクラスタ数k=5として実行せよ．\n",
        "FILE_ID = \"0B7XkCwpI5KDYNlNUTTlSS21pQmM\"\n",
        "FILE_NAME = \"GoogleNews-vectors-negative300.bin.gz\"\n",
        "!wget --load-cookies /tmp/cookies.txt \"https://docs.google.com/uc?export=download&confirm=$(wget --quiet --save-cookies /tmp/cookies.txt --keep-session-cookies --no-check-certificate 'https://docs.google.com/uc?export=download&id=$FILE_ID' -O- | sed -rn 's/.*confirm=([0-9A-Za-z_]+).*/\\1\\n/p')&id=$FILE_ID\" -O $FILE_NAME && rm -rf /tmp/cookies.txt"
      ],
      "execution_count": null,
      "outputs": [
        {
          "output_type": "stream",
          "text": [
            "--2020-11-17 05:15:56--  https://docs.google.com/uc?export=download&confirm=RAJ6&id=0B7XkCwpI5KDYNlNUTTlSS21pQmM\n",
            "Resolving docs.google.com (docs.google.com)... 108.177.126.101, 108.177.126.138, 108.177.126.113, ...\n",
            "Connecting to docs.google.com (docs.google.com)|108.177.126.101|:443... connected.\n",
            "HTTP request sent, awaiting response... 302 Moved Temporarily\n",
            "Location: https://doc-08-ag-docs.googleusercontent.com/docs/securesc/f47b808q0l1prbiic2ii1r9t6fel520d/8mb5f0inkb7gr6ap7cr0nkq9v2rtqtk7/1605590100000/06848720943842814915/15078377848264474882Z/0B7XkCwpI5KDYNlNUTTlSS21pQmM?e=download [following]\n",
            "--2020-11-17 05:15:57--  https://doc-08-ag-docs.googleusercontent.com/docs/securesc/f47b808q0l1prbiic2ii1r9t6fel520d/8mb5f0inkb7gr6ap7cr0nkq9v2rtqtk7/1605590100000/06848720943842814915/15078377848264474882Z/0B7XkCwpI5KDYNlNUTTlSS21pQmM?e=download\n",
            "Resolving doc-08-ag-docs.googleusercontent.com (doc-08-ag-docs.googleusercontent.com)... 74.125.143.132, 2a00:1450:4013:c03::84\n",
            "Connecting to doc-08-ag-docs.googleusercontent.com (doc-08-ag-docs.googleusercontent.com)|74.125.143.132|:443... connected.\n",
            "HTTP request sent, awaiting response... 302 Found\n",
            "Location: https://docs.google.com/nonceSigner?nonce=e25l4c2lct718&continue=https://doc-08-ag-docs.googleusercontent.com/docs/securesc/f47b808q0l1prbiic2ii1r9t6fel520d/8mb5f0inkb7gr6ap7cr0nkq9v2rtqtk7/1605590100000/06848720943842814915/15078377848264474882Z/0B7XkCwpI5KDYNlNUTTlSS21pQmM?e%3Ddownload&hash=v09h8ii7eejleruqle6crhja7iqciarf [following]\n",
            "--2020-11-17 05:15:57--  https://docs.google.com/nonceSigner?nonce=e25l4c2lct718&continue=https://doc-08-ag-docs.googleusercontent.com/docs/securesc/f47b808q0l1prbiic2ii1r9t6fel520d/8mb5f0inkb7gr6ap7cr0nkq9v2rtqtk7/1605590100000/06848720943842814915/15078377848264474882Z/0B7XkCwpI5KDYNlNUTTlSS21pQmM?e%3Ddownload&hash=v09h8ii7eejleruqle6crhja7iqciarf\n",
            "Connecting to docs.google.com (docs.google.com)|108.177.126.101|:443... connected.\n",
            "HTTP request sent, awaiting response... 302 Found\n",
            "Location: https://doc-08-ag-docs.googleusercontent.com/docs/securesc/f47b808q0l1prbiic2ii1r9t6fel520d/8mb5f0inkb7gr6ap7cr0nkq9v2rtqtk7/1605590100000/06848720943842814915/15078377848264474882Z/0B7XkCwpI5KDYNlNUTTlSS21pQmM?e=download&nonce=e25l4c2lct718&user=15078377848264474882Z&hash=276209njete0ihgotj6d85qfclh55v1l [following]\n",
            "--2020-11-17 05:15:57--  https://doc-08-ag-docs.googleusercontent.com/docs/securesc/f47b808q0l1prbiic2ii1r9t6fel520d/8mb5f0inkb7gr6ap7cr0nkq9v2rtqtk7/1605590100000/06848720943842814915/15078377848264474882Z/0B7XkCwpI5KDYNlNUTTlSS21pQmM?e=download&nonce=e25l4c2lct718&user=15078377848264474882Z&hash=276209njete0ihgotj6d85qfclh55v1l\n",
            "Connecting to doc-08-ag-docs.googleusercontent.com (doc-08-ag-docs.googleusercontent.com)|74.125.143.132|:443... connected.\n",
            "HTTP request sent, awaiting response... 200 OK\n",
            "Length: unspecified [application/x-gzip]\n",
            "Saving to: ‘GoogleNews-vectors-negative300.bin.gz’\n",
            "\n",
            "GoogleNews-vectors-     [            <=>     ]   1.53G   121MB/s    in 12s     \n",
            "\n",
            "2020-11-17 05:16:11 (128 MB/s) - ‘GoogleNews-vectors-negative300.bin.gz’ saved [1647046227]\n",
            "\n"
          ],
          "name": "stdout"
        }
      ]
    },
    {
      "cell_type": "code",
      "metadata": {
        "id": "2HU0CpyPoqsu"
      },
      "source": [
        "from gensim.models import KeyedVectors\n",
        "\n",
        "model = KeyedVectors.load_word2vec_format('./GoogleNews-vectors-negative300.bin.gz', binary=True)"
      ],
      "execution_count": null,
      "outputs": []
    },
    {
      "cell_type": "code",
      "metadata": {
        "id": "CFpnfrfCWupy",
        "outputId": "378aa787-d72e-4217-ece3-c1c62ad5628e",
        "colab": {
          "base_uri": "https://localhost:8080/"
        }
      },
      "source": [
        "!wget http://www.gabrilovich.com/resources/data/wordsim353/wordsim353.zip\n",
        "!unzip wordsim353.zip"
      ],
      "execution_count": 24,
      "outputs": [
        {
          "output_type": "stream",
          "text": [
            "--2020-11-17 08:38:34--  http://www.gabrilovich.com/resources/data/wordsim353/wordsim353.zip\n",
            "Resolving www.gabrilovich.com (www.gabrilovich.com)... 208.97.177.37\n",
            "Connecting to www.gabrilovich.com (www.gabrilovich.com)|208.97.177.37|:80... connected.\n",
            "HTTP request sent, awaiting response... 200 OK\n",
            "Length: 23257 (23K) [application/zip]\n",
            "Saving to: ‘wordsim353.zip’\n",
            "\n",
            "wordsim353.zip      100%[===================>]  22.71K  --.-KB/s    in 0.08s   \n",
            "\n",
            "2020-11-17 08:38:34 (270 KB/s) - ‘wordsim353.zip’ saved [23257/23257]\n",
            "\n",
            "Archive:  wordsim353.zip\n",
            "  inflating: combined.csv            \n",
            "  inflating: set1.csv                \n",
            "  inflating: set2.csv                \n",
            "  inflating: combined.tab            \n",
            "  inflating: set1.tab                \n",
            "  inflating: set2.tab                \n",
            "  inflating: instructions.txt        \n"
          ],
          "name": "stdout"
        }
      ]
    },
    {
      "cell_type": "code",
      "metadata": {
        "id": "u7T6YEMDWy7y",
        "outputId": "6c6bdf73-b13e-4daa-b23b-018bbf4a6c59",
        "colab": {
          "base_uri": "https://localhost:8080/"
        }
      },
      "source": [
        "!head -10 './combined.csv'"
      ],
      "execution_count": 25,
      "outputs": [
        {
          "output_type": "stream",
          "text": [
            "Word 1,Word 2,Human (mean)\r\n",
            "love,sex,6.77\r\n",
            "tiger,cat,7.35\r\n",
            "tiger,tiger,10.00\r\n",
            "book,paper,7.46\r\n",
            "computer,keyboard,7.62\r\n",
            "computer,internet,7.58\r\n",
            "plane,car,5.77\r\n",
            "train,car,6.31\r\n",
            "telephone,communication,7.50\r\n"
          ],
          "name": "stdout"
        }
      ]
    },
    {
      "cell_type": "code",
      "metadata": {
        "id": "7lvirQosc6ZB"
      },
      "source": [
        "# 国名の取得\n",
        "countries = set()\n",
        "with open('./questions-words-add.txt') as f:\n",
        "  for line in f:\n",
        "    line = line.split()\n",
        "    if line[0] in ['capital-common-countries', 'capital-world']:\n",
        "      countries.add(line[2])\n",
        "    elif line[0] in ['currency', 'gram6-nationality-adjective']:\n",
        "      countries.add(line[1])\n",
        "countries = list(countries)"
      ],
      "execution_count": 34,
      "outputs": []
    },
    {
      "cell_type": "code",
      "metadata": {
        "id": "IS60qiCBdFTZ"
      },
      "source": [
        "countries.sort()"
      ],
      "execution_count": 36,
      "outputs": []
    },
    {
      "cell_type": "code",
      "metadata": {
        "id": "cBOtu3wpdMdT"
      },
      "source": [
        "# 単語ベクトルの取得\n",
        "countries_vec = [model[country] for country in countries]"
      ],
      "execution_count": 39,
      "outputs": []
    },
    {
      "cell_type": "code",
      "metadata": {
        "id": "XSbW9xqzeYup",
        "outputId": "03c55ffb-3c16-44fb-e54c-ca7d35c92f18",
        "colab": {
          "base_uri": "https://localhost:8080/"
        }
      },
      "source": [
        "countries_vec[1]"
      ],
      "execution_count": 42,
      "outputs": [
        {
          "output_type": "execute_result",
          "data": {
            "text/plain": [
              "array([-1.40380859e-02, -1.01562500e-01,  2.40234375e-01,  2.83203125e-02,\n",
              "       -1.77734375e-01, -8.30078125e-02, -1.90429688e-01, -2.35351562e-01,\n",
              "       -9.47265625e-02,  2.20703125e-01, -1.47094727e-02, -5.79833984e-03,\n",
              "        1.06445312e-01,  2.06298828e-02, -6.07299805e-03, -1.04003906e-01,\n",
              "       -1.84570312e-01,  4.68750000e-02, -2.05078125e-01,  1.04370117e-02,\n",
              "        1.39648438e-01, -3.96484375e-01,  1.53320312e-01,  2.92968750e-01,\n",
              "       -4.69970703e-03,  7.95898438e-02, -1.68945312e-01,  3.63769531e-02,\n",
              "        6.93359375e-02,  1.71875000e-01, -2.81250000e-01, -2.05078125e-01,\n",
              "       -6.10351562e-03,  5.61523438e-02, -1.41601562e-01, -1.93359375e-01,\n",
              "       -1.39648438e-01,  9.57031250e-02,  4.83398438e-02, -1.15234375e-01,\n",
              "       -3.75976562e-02,  1.65039062e-01,  3.32031250e-01,  7.51953125e-02,\n",
              "        9.91210938e-02, -1.10839844e-01, -1.84570312e-01,  1.45507812e-01,\n",
              "       -1.47460938e-01,  1.44531250e-01, -1.05468750e-01, -5.12695312e-02,\n",
              "        7.47680664e-03,  1.13281250e-01, -9.32617188e-02, -8.15429688e-02,\n",
              "       -4.23828125e-01,  3.97949219e-02, -1.26953125e-01, -4.56542969e-02,\n",
              "        5.54199219e-02, -1.53320312e-01, -3.80859375e-02,  9.86328125e-02,\n",
              "        1.50390625e-01, -1.28906250e-01,  3.12500000e-01, -4.53125000e-01,\n",
              "       -1.01562500e-01, -6.98242188e-02,  5.95092773e-03, -6.78710938e-02,\n",
              "        1.00585938e-01, -3.88183594e-02, -8.34960938e-02, -3.00781250e-01,\n",
              "        3.84765625e-01,  3.14941406e-02,  4.56542969e-02,  2.85156250e-01,\n",
              "       -2.75390625e-01, -2.92968750e-01, -1.27929688e-01, -1.73828125e-01,\n",
              "       -1.46484375e-01, -1.42578125e-01, -9.13085938e-02, -2.89062500e-01,\n",
              "        2.36328125e-01,  6.78710938e-02,  1.66992188e-01, -2.10937500e-01,\n",
              "       -4.35546875e-01,  2.35351562e-01, -3.93066406e-02, -2.04101562e-01,\n",
              "       -1.54296875e-01, -3.93066406e-02,  4.24804688e-02, -1.36718750e-01,\n",
              "       -2.18750000e-01,  2.44140625e-01,  1.06933594e-01, -3.78417969e-02,\n",
              "       -4.88281250e-04,  1.52343750e-01,  4.94384766e-03, -1.17187500e-01,\n",
              "       -6.07910156e-02, -2.17285156e-02,  2.75390625e-01,  1.59179688e-01,\n",
              "       -9.57031250e-02, -2.38281250e-01, -1.66015625e-01, -1.69677734e-02,\n",
              "        2.67578125e-01,  1.47460938e-01,  4.10156250e-01,  1.79687500e-01,\n",
              "       -2.18750000e-01, -2.52685547e-02, -2.20703125e-01, -1.21093750e-01,\n",
              "       -2.19726562e-01, -1.55029297e-02, -1.33789062e-01,  5.67626953e-03,\n",
              "       -7.69531250e-01,  1.60156250e-01, -1.85546875e-01,  1.35742188e-01,\n",
              "       -1.51367188e-01, -3.49121094e-02, -9.03320312e-02, -1.43554688e-01,\n",
              "       -2.02148438e-01, -2.73437500e-02,  3.55468750e-01, -1.44531250e-01,\n",
              "        3.27148438e-02, -1.86523438e-01,  1.63085938e-01,  2.83203125e-01,\n",
              "        1.05957031e-01,  9.32617188e-02, -2.83203125e-01,  4.46777344e-02,\n",
              "        6.78710938e-02, -5.24902344e-02,  2.53906250e-01, -2.79296875e-01,\n",
              "        2.53906250e-02, -7.12890625e-02,  3.92578125e-01, -3.36914062e-02,\n",
              "       -2.28515625e-01,  2.02636719e-02,  1.14746094e-01,  8.00781250e-02,\n",
              "       -6.59179688e-02,  2.55126953e-02, -1.44531250e-01,  1.05957031e-01,\n",
              "        6.98242188e-02, -1.12304688e-02,  9.08203125e-02,  7.56835938e-02,\n",
              "       -8.39843750e-02,  1.03515625e-01, -1.23046875e-01,  2.13867188e-01,\n",
              "        2.08740234e-02,  4.41894531e-02,  1.05468750e-01, -9.91210938e-02,\n",
              "        9.76562500e-02, -6.64062500e-02,  2.03125000e-01, -2.51953125e-01,\n",
              "       -1.25976562e-01, -1.28906250e-01, -2.28271484e-02,  2.20703125e-01,\n",
              "        1.06445312e-01,  1.43554688e-01,  9.76562500e-02,  1.28784180e-02,\n",
              "       -2.00195312e-01,  1.00097656e-01, -6.68945312e-02, -2.34375000e-01,\n",
              "       -4.10156250e-02,  3.51562500e-02,  1.21093750e-01,  1.77734375e-01,\n",
              "       -4.27246094e-02, -9.13085938e-02, -2.44140625e-01, -1.76757812e-01,\n",
              "        2.45361328e-02,  3.88183594e-02,  1.64062500e-01, -1.18164062e-01,\n",
              "        1.29394531e-02, -1.38671875e-01, -5.34057617e-03, -1.55273438e-01,\n",
              "       -1.92382812e-01, -8.49609375e-02, -3.14941406e-02, -9.52148438e-02,\n",
              "       -1.80664062e-01,  1.92382812e-01, -1.97265625e-01,  1.26953125e-01,\n",
              "       -4.02832031e-03,  9.17968750e-02,  2.69531250e-01, -2.23632812e-01,\n",
              "        3.61328125e-02, -9.96093750e-02, -2.45361328e-02, -2.30468750e-01,\n",
              "       -4.85839844e-02,  1.89453125e-01,  7.17773438e-02,  1.97265625e-01,\n",
              "        4.08203125e-01, -4.53125000e-01, -5.10253906e-02,  3.61328125e-02,\n",
              "        3.12500000e-02, -2.24609375e-01,  2.26562500e-01,  3.22265625e-01,\n",
              "       -2.27539062e-01,  2.59765625e-01,  1.80664062e-01,  4.05273438e-02,\n",
              "        9.76562500e-02, -6.07299805e-03, -1.46484375e-01,  2.75390625e-01,\n",
              "        1.36108398e-02,  1.45507812e-01,  7.91015625e-02,  1.58203125e-01,\n",
              "        1.24511719e-01, -8.54492188e-02,  3.61328125e-01, -1.14746094e-02,\n",
              "        2.04101562e-01,  3.14453125e-01,  4.56542969e-02,  3.33984375e-01,\n",
              "        1.65039062e-01,  1.46484375e-01,  2.15820312e-01, -1.37695312e-01,\n",
              "        1.51367188e-01,  1.12792969e-01,  2.89062500e-01,  2.68554688e-02,\n",
              "        3.82812500e-01,  1.14257812e-01, -3.14453125e-01, -3.88183594e-02,\n",
              "       -1.09863281e-01,  5.93261719e-02,  9.96093750e-02,  8.64257812e-02,\n",
              "        1.84570312e-01, -6.78710938e-02,  4.44335938e-02,  3.14941406e-02,\n",
              "        1.84570312e-01, -1.25976562e-01, -2.85156250e-01, -1.70898438e-01,\n",
              "       -1.37695312e-01,  3.18359375e-01, -3.75976562e-02, -1.02539062e-01,\n",
              "       -4.31640625e-01, -7.32421875e-02,  7.41577148e-03,  1.70898438e-01,\n",
              "       -1.67968750e-01,  1.00585938e-01, -1.13281250e-01,  9.71679688e-02,\n",
              "       -5.78125000e-01, -1.25732422e-02,  1.41601562e-01,  3.10546875e-01,\n",
              "       -1.37695312e-01,  1.15234375e-01,  3.06640625e-01,  2.71484375e-01],\n",
              "      dtype=float32)"
            ]
          },
          "metadata": {
            "tags": []
          },
          "execution_count": 42
        }
      ]
    },
    {
      "cell_type": "code",
      "metadata": {
        "id": "m3APVG8Ddjv5",
        "outputId": "a5b6818d-e0fc-43f7-aa9d-bf6870e84097",
        "colab": {
          "base_uri": "https://localhost:8080/"
        }
      },
      "source": [
        "from sklearn.cluster import KMeans\n",
        "\n",
        "# k-meansクラスタリング\n",
        "kmeans = KMeans(n_clusters=5)\n",
        "kmeans.fit(countries_vec)\n",
        "for i in range(5):\n",
        "    cluster = np.where(kmeans.labels_ == i)[0]\n",
        "    print('cluster', i)\n",
        "    print(', '.join([countries[k] for k in cluster]))"
      ],
      "execution_count": 40,
      "outputs": [
        {
          "output_type": "stream",
          "text": [
            "cluster 0\n",
            "Australia, Austria, Belgium, Canada, Denmark, England, Europe, Finland, France, Germany, Greenland, Iceland, Ireland, Italy, Liechtenstein, Malta, Netherlands, Norway, Portugal, Spain, Sweden, Switzerland, USA\n",
            "cluster 1\n",
            "Afghanistan, Bahrain, Bangladesh, Bhutan, Cambodia, China, Egypt, Fiji, India, Indonesia, Iran, Iraq, Israel, Japan, Jordan, Korea, Laos, Lebanon, Malaysia, Morocco, Nepal, Oman, Pakistan, Philippines, Qatar, Syria, Taiwan, Thailand, Tuvalu, Vietnam\n",
            "cluster 2\n",
            "Argentina, Bahamas, Belize, Brazil, Chile, Colombia, Cuba, Dominica, Ecuador, Guyana, Honduras, Jamaica, Mexico, Nicaragua, Peru, Samoa, Suriname, Uruguay, Venezuela\n",
            "cluster 3\n",
            "Albania, Armenia, Azerbaijan, Belarus, Bulgaria, Croatia, Cyprus, Estonia, Georgia, Greece, Hungary, Kazakhstan, Kyrgyzstan, Latvia, Lithuania, Macedonia, Moldova, Montenegro, Poland, Romania, Russia, Serbia, Slovakia, Slovenia, Tajikistan, Turkey, Turkmenistan, Ukraine, Uzbekistan\n",
            "cluster 4\n",
            "Algeria, Angola, Botswana, Burundi, Eritrea, Gabon, Gambia, Ghana, Guinea, Kenya, Liberia, Libya, Madagascar, Malawi, Mali, Mauritania, Mozambique, Namibia, Niger, Nigeria, Rwanda, Senegal, Somalia, Sudan, Tunisia, Uganda, Zambia, Zimbabwe\n"
          ],
          "name": "stdout"
        }
      ]
    }
  ]
}