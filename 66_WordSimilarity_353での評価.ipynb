{
  "nbformat": 4,
  "nbformat_minor": 0,
  "metadata": {
    "colab": {
      "name": "66. WordSimilarity-353での評価.ipynb",
      "provenance": [],
      "authorship_tag": "ABX9TyPRqngxddTF4b4RsqhbT8r4",
      "include_colab_link": true
    },
    "kernelspec": {
      "display_name": "Python 3",
      "name": "python3"
    }
  },
  "cells": [
    {
      "cell_type": "markdown",
      "metadata": {
        "id": "view-in-github",
        "colab_type": "text"
      },
      "source": [
        "<a href=\"https://colab.research.google.com/github/sen-com/NLP-100-knokes-cp7/blob/main/66_WordSimilarity_353%E3%81%A7%E3%81%AE%E8%A9%95%E4%BE%A1.ipynb\" target=\"_parent\"><img src=\"https://colab.research.google.com/assets/colab-badge.svg\" alt=\"Open In Colab\"/></a>"
      ]
    },
    {
      "cell_type": "code",
      "metadata": {
        "id": "Yk2HVJGrlVaz",
        "outputId": "c311901b-a76a-4de9-830c-6e8bfd265448",
        "colab": {
          "base_uri": "https://localhost:8080/"
        }
      },
      "source": [
        "# The WordSimilarity-353 Test Collectionの評価データをダウンロードし，\n",
        "# 単語ベクトルにより計算される類似度のランキングと，人間の類似度判定のランキングの間のスピアマン相関係数を計算せよ．\n",
        "FILE_ID = \"0B7XkCwpI5KDYNlNUTTlSS21pQmM\"\n",
        "FILE_NAME = \"GoogleNews-vectors-negative300.bin.gz\"\n",
        "!wget --load-cookies /tmp/cookies.txt \"https://docs.google.com/uc?export=download&confirm=$(wget --quiet --save-cookies /tmp/cookies.txt --keep-session-cookies --no-check-certificate 'https://docs.google.com/uc?export=download&id=$FILE_ID' -O- | sed -rn 's/.*confirm=([0-9A-Za-z_]+).*/\\1\\n/p')&id=$FILE_ID\" -O $FILE_NAME && rm -rf /tmp/cookies.txt"
      ],
      "execution_count": null,
      "outputs": [
        {
          "output_type": "stream",
          "text": [
            "--2020-11-17 05:15:56--  https://docs.google.com/uc?export=download&confirm=RAJ6&id=0B7XkCwpI5KDYNlNUTTlSS21pQmM\n",
            "Resolving docs.google.com (docs.google.com)... 108.177.126.101, 108.177.126.138, 108.177.126.113, ...\n",
            "Connecting to docs.google.com (docs.google.com)|108.177.126.101|:443... connected.\n",
            "HTTP request sent, awaiting response... 302 Moved Temporarily\n",
            "Location: https://doc-08-ag-docs.googleusercontent.com/docs/securesc/f47b808q0l1prbiic2ii1r9t6fel520d/8mb5f0inkb7gr6ap7cr0nkq9v2rtqtk7/1605590100000/06848720943842814915/15078377848264474882Z/0B7XkCwpI5KDYNlNUTTlSS21pQmM?e=download [following]\n",
            "--2020-11-17 05:15:57--  https://doc-08-ag-docs.googleusercontent.com/docs/securesc/f47b808q0l1prbiic2ii1r9t6fel520d/8mb5f0inkb7gr6ap7cr0nkq9v2rtqtk7/1605590100000/06848720943842814915/15078377848264474882Z/0B7XkCwpI5KDYNlNUTTlSS21pQmM?e=download\n",
            "Resolving doc-08-ag-docs.googleusercontent.com (doc-08-ag-docs.googleusercontent.com)... 74.125.143.132, 2a00:1450:4013:c03::84\n",
            "Connecting to doc-08-ag-docs.googleusercontent.com (doc-08-ag-docs.googleusercontent.com)|74.125.143.132|:443... connected.\n",
            "HTTP request sent, awaiting response... 302 Found\n",
            "Location: https://docs.google.com/nonceSigner?nonce=e25l4c2lct718&continue=https://doc-08-ag-docs.googleusercontent.com/docs/securesc/f47b808q0l1prbiic2ii1r9t6fel520d/8mb5f0inkb7gr6ap7cr0nkq9v2rtqtk7/1605590100000/06848720943842814915/15078377848264474882Z/0B7XkCwpI5KDYNlNUTTlSS21pQmM?e%3Ddownload&hash=v09h8ii7eejleruqle6crhja7iqciarf [following]\n",
            "--2020-11-17 05:15:57--  https://docs.google.com/nonceSigner?nonce=e25l4c2lct718&continue=https://doc-08-ag-docs.googleusercontent.com/docs/securesc/f47b808q0l1prbiic2ii1r9t6fel520d/8mb5f0inkb7gr6ap7cr0nkq9v2rtqtk7/1605590100000/06848720943842814915/15078377848264474882Z/0B7XkCwpI5KDYNlNUTTlSS21pQmM?e%3Ddownload&hash=v09h8ii7eejleruqle6crhja7iqciarf\n",
            "Connecting to docs.google.com (docs.google.com)|108.177.126.101|:443... connected.\n",
            "HTTP request sent, awaiting response... 302 Found\n",
            "Location: https://doc-08-ag-docs.googleusercontent.com/docs/securesc/f47b808q0l1prbiic2ii1r9t6fel520d/8mb5f0inkb7gr6ap7cr0nkq9v2rtqtk7/1605590100000/06848720943842814915/15078377848264474882Z/0B7XkCwpI5KDYNlNUTTlSS21pQmM?e=download&nonce=e25l4c2lct718&user=15078377848264474882Z&hash=276209njete0ihgotj6d85qfclh55v1l [following]\n",
            "--2020-11-17 05:15:57--  https://doc-08-ag-docs.googleusercontent.com/docs/securesc/f47b808q0l1prbiic2ii1r9t6fel520d/8mb5f0inkb7gr6ap7cr0nkq9v2rtqtk7/1605590100000/06848720943842814915/15078377848264474882Z/0B7XkCwpI5KDYNlNUTTlSS21pQmM?e=download&nonce=e25l4c2lct718&user=15078377848264474882Z&hash=276209njete0ihgotj6d85qfclh55v1l\n",
            "Connecting to doc-08-ag-docs.googleusercontent.com (doc-08-ag-docs.googleusercontent.com)|74.125.143.132|:443... connected.\n",
            "HTTP request sent, awaiting response... 200 OK\n",
            "Length: unspecified [application/x-gzip]\n",
            "Saving to: ‘GoogleNews-vectors-negative300.bin.gz’\n",
            "\n",
            "GoogleNews-vectors-     [            <=>     ]   1.53G   121MB/s    in 12s     \n",
            "\n",
            "2020-11-17 05:16:11 (128 MB/s) - ‘GoogleNews-vectors-negative300.bin.gz’ saved [1647046227]\n",
            "\n"
          ],
          "name": "stdout"
        }
      ]
    },
    {
      "cell_type": "code",
      "metadata": {
        "id": "2HU0CpyPoqsu"
      },
      "source": [
        "from gensim.models import KeyedVectors\n",
        "\n",
        "model = KeyedVectors.load_word2vec_format('./GoogleNews-vectors-negative300.bin.gz', binary=True)"
      ],
      "execution_count": null,
      "outputs": []
    },
    {
      "cell_type": "code",
      "metadata": {
        "id": "CFpnfrfCWupy",
        "outputId": "378aa787-d72e-4217-ece3-c1c62ad5628e",
        "colab": {
          "base_uri": "https://localhost:8080/"
        }
      },
      "source": [
        "!wget http://www.gabrilovich.com/resources/data/wordsim353/wordsim353.zip\n",
        "!unzip wordsim353.zip"
      ],
      "execution_count": 24,
      "outputs": [
        {
          "output_type": "stream",
          "text": [
            "--2020-11-17 08:38:34--  http://www.gabrilovich.com/resources/data/wordsim353/wordsim353.zip\n",
            "Resolving www.gabrilovich.com (www.gabrilovich.com)... 208.97.177.37\n",
            "Connecting to www.gabrilovich.com (www.gabrilovich.com)|208.97.177.37|:80... connected.\n",
            "HTTP request sent, awaiting response... 200 OK\n",
            "Length: 23257 (23K) [application/zip]\n",
            "Saving to: ‘wordsim353.zip’\n",
            "\n",
            "wordsim353.zip      100%[===================>]  22.71K  --.-KB/s    in 0.08s   \n",
            "\n",
            "2020-11-17 08:38:34 (270 KB/s) - ‘wordsim353.zip’ saved [23257/23257]\n",
            "\n",
            "Archive:  wordsim353.zip\n",
            "  inflating: combined.csv            \n",
            "  inflating: set1.csv                \n",
            "  inflating: set2.csv                \n",
            "  inflating: combined.tab            \n",
            "  inflating: set1.tab                \n",
            "  inflating: set2.tab                \n",
            "  inflating: instructions.txt        \n"
          ],
          "name": "stdout"
        }
      ]
    },
    {
      "cell_type": "code",
      "metadata": {
        "id": "u7T6YEMDWy7y",
        "outputId": "6c6bdf73-b13e-4daa-b23b-018bbf4a6c59",
        "colab": {
          "base_uri": "https://localhost:8080/"
        }
      },
      "source": [
        "!head -10 './combined.csv'"
      ],
      "execution_count": 25,
      "outputs": [
        {
          "output_type": "stream",
          "text": [
            "Word 1,Word 2,Human (mean)\r\n",
            "love,sex,6.77\r\n",
            "tiger,cat,7.35\r\n",
            "tiger,tiger,10.00\r\n",
            "book,paper,7.46\r\n",
            "computer,keyboard,7.62\r\n",
            "computer,internet,7.58\r\n",
            "plane,car,5.77\r\n",
            "train,car,6.31\r\n",
            "telephone,communication,7.50\r\n"
          ],
          "name": "stdout"
        }
      ]
    },
    {
      "cell_type": "code",
      "metadata": {
        "id": "KABlLb4DXAdq",
        "outputId": "e17a55cb-9386-4614-ac0a-edb2c6c30f59",
        "colab": {
          "base_uri": "https://localhost:8080/"
        }
      },
      "source": [
        "ws353 = []\n",
        "with open('./combined.csv', 'r') as f:\n",
        "  next(f)\n",
        "  for line in f:  # 1行ずつ読込み、単語ベクトルと類似度を計算\n",
        "    line = [s.strip() for s in line.split(',')]\n",
        "    line.append(model.similarity(line[0], line[1]))\n",
        "    ws353.append(line)\n",
        "\n",
        "for i in ws353[:10]:\n",
        "  print(i)"
      ],
      "execution_count": 32,
      "outputs": [
        {
          "output_type": "stream",
          "text": [
            "['love', 'sex', '6.77', 0.2639377]\n",
            "['tiger', 'cat', '7.35', 0.5172962]\n",
            "['tiger', 'tiger', '10.00', 0.99999994]\n",
            "['book', 'paper', '7.46', 0.3634626]\n",
            "['computer', 'keyboard', '7.62', 0.39639163]\n",
            "['computer', 'internet', '7.58', 0.40686232]\n",
            "['plane', 'car', '5.77', 0.3779698]\n",
            "['train', 'car', '6.31', 0.3402561]\n",
            "['telephone', 'communication', '7.50', 0.33218452]\n",
            "['television', 'radio', '6.77', 0.6114971]\n"
          ],
          "name": "stdout"
        },
        {
          "output_type": "stream",
          "text": [
            "/usr/local/lib/python3.6/dist-packages/gensim/matutils.py:737: FutureWarning: Conversion of the second argument of issubdtype from `int` to `np.signedinteger` is deprecated. In future, it will be treated as `np.int64 == np.dtype(int).type`.\n",
            "  if np.issubdtype(vec.dtype, np.int):\n"
          ],
          "name": "stderr"
        }
      ]
    },
    {
      "cell_type": "code",
      "metadata": {
        "id": "KjVthjeoYygl",
        "outputId": "2b9427c6-448a-4d5d-8efd-9cdf2304e581",
        "colab": {
          "base_uri": "https://localhost:8080/"
        }
      },
      "source": [
        "import numpy as np\n",
        "from scipy.stats import spearmanr\n",
        "\n",
        "# スピアマン相関係数の計算\n",
        "human = np.array(ws353).T[2]\n",
        "w2v = np.array(ws353).T[3]\n",
        "correlation, pvalue = spearmanr(human, w2v)\n",
        "\n",
        "print(f'スピアマン相関係数: {correlation:.3f}')"
      ],
      "execution_count": 33,
      "outputs": [
        {
          "output_type": "stream",
          "text": [
            "スピアマン相関係数: 0.685\n"
          ],
          "name": "stdout"
        }
      ]
    }
  ]
}